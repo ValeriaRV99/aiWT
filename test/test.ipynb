{
 "cells": [
  {
   "cell_type": "code",
   "execution_count": 2,
   "metadata": {},
   "outputs": [
    {
     "name": "stdout",
     "output_type": "stream",
     "text": [
      "Looking in indexes: https://test.pypi.org/simple/\n",
      "Collecting aiWT==1.0.0\n",
      "  Obtaining dependency information for aiWT==1.0.0 from https://test-files.pythonhosted.org/packages/ec/90/7975be8769dea83e69ab1c003464d97562042645e4d88f6b897b56eb5794/aiWT-1.0.0-py3-none-any.whl.metadata\n",
      "  Downloading https://test-files.pythonhosted.org/packages/ec/90/7975be8769dea83e69ab1c003464d97562042645e4d88f6b897b56eb5794/aiWT-1.0.0-py3-none-any.whl.metadata (1.6 kB)\n",
      "Requirement already satisfied: dftpy>=2.0.0 in /home/vale/Documents/DFTPY/aiWT/dftpy/src (from aiWT==1.0.0) (2.0.3.post3+gefadd6a)\n",
      "Requirement already satisfied: dscribe>=2.0.1 in /home/vale/Documents/DFTPY/aiWT/lib/python3.10/site-packages (from aiWT==1.0.0) (2.1.0)\n",
      "Requirement already satisfied: scikit-learn>=1.3.0 in /home/vale/Documents/DFTPY/aiWT/lib/python3.10/site-packages (from aiWT==1.0.0) (1.3.0)\n",
      "Requirement already satisfied: numpy>=1.11.0 in /home/vale/Documents/DFTPY/aiWT/lib/python3.10/site-packages (from dftpy>=2.0.0->aiWT==1.0.0) (1.24.4)\n",
      "Requirement already satisfied: scipy>=0.18.0 in /home/vale/Documents/DFTPY/aiWT/lib/python3.10/site-packages (from dftpy>=2.0.0->aiWT==1.0.0) (1.11.2)\n",
      "Requirement already satisfied: ase>=3.22.0 in /home/vale/Documents/DFTPY/aiWT/lib/python3.10/site-packages (from dftpy>=2.0.0->aiWT==1.0.0) (3.22.1)\n",
      "Requirement already satisfied: xmltodict>=0.12.0 in /home/vale/Documents/DFTPY/aiWT/lib/python3.10/site-packages (from dftpy>=2.0.0->aiWT==1.0.0) (0.13.0)\n",
      "Requirement already satisfied: pybind11>=2.4 in /home/vale/Documents/DFTPY/aiWT/lib/python3.10/site-packages (from dscribe>=2.0.1->aiWT==1.0.0) (2.11.1)\n",
      "Requirement already satisfied: joblib>=1.0.0 in /home/vale/Documents/DFTPY/aiWT/lib/python3.10/site-packages (from dscribe>=2.0.1->aiWT==1.0.0) (1.3.2)\n",
      "Requirement already satisfied: sparse in /home/vale/Documents/DFTPY/aiWT/lib/python3.10/site-packages (from dscribe>=2.0.1->aiWT==1.0.0) (0.14.0)\n",
      "Requirement already satisfied: threadpoolctl>=2.0.0 in /home/vale/Documents/DFTPY/aiWT/lib/python3.10/site-packages (from scikit-learn>=1.3.0->aiWT==1.0.0) (3.2.0)\n",
      "Requirement already satisfied: matplotlib>=3.1.0 in /home/vale/Documents/DFTPY/aiWT/lib/python3.10/site-packages (from ase>=3.22.0->dftpy>=2.0.0->aiWT==1.0.0) (3.7.2)\n",
      "Requirement already satisfied: numba>=0.49 in /home/vale/Documents/DFTPY/aiWT/lib/python3.10/site-packages (from sparse->dscribe>=2.0.1->aiWT==1.0.0) (0.57.1)\n",
      "Requirement already satisfied: contourpy>=1.0.1 in /home/vale/Documents/DFTPY/aiWT/lib/python3.10/site-packages (from matplotlib>=3.1.0->ase>=3.22.0->dftpy>=2.0.0->aiWT==1.0.0) (1.1.0)\n",
      "Requirement already satisfied: cycler>=0.10 in /home/vale/Documents/DFTPY/aiWT/lib/python3.10/site-packages (from matplotlib>=3.1.0->ase>=3.22.0->dftpy>=2.0.0->aiWT==1.0.0) (0.11.0)\n",
      "Requirement already satisfied: fonttools>=4.22.0 in /home/vale/Documents/DFTPY/aiWT/lib/python3.10/site-packages (from matplotlib>=3.1.0->ase>=3.22.0->dftpy>=2.0.0->aiWT==1.0.0) (4.42.1)\n",
      "Requirement already satisfied: kiwisolver>=1.0.1 in /home/vale/Documents/DFTPY/aiWT/lib/python3.10/site-packages (from matplotlib>=3.1.0->ase>=3.22.0->dftpy>=2.0.0->aiWT==1.0.0) (1.4.5)\n",
      "Requirement already satisfied: packaging>=20.0 in /home/vale/Documents/DFTPY/aiWT/lib/python3.10/site-packages (from matplotlib>=3.1.0->ase>=3.22.0->dftpy>=2.0.0->aiWT==1.0.0) (23.1)\n",
      "Requirement already satisfied: pillow>=6.2.0 in /home/vale/Documents/DFTPY/aiWT/lib/python3.10/site-packages (from matplotlib>=3.1.0->ase>=3.22.0->dftpy>=2.0.0->aiWT==1.0.0) (10.0.0)\n",
      "Requirement already satisfied: pyparsing<3.1,>=2.3.1 in /home/vale/Documents/DFTPY/aiWT/lib/python3.10/site-packages (from matplotlib>=3.1.0->ase>=3.22.0->dftpy>=2.0.0->aiWT==1.0.0) (3.0.9)\n",
      "Requirement already satisfied: python-dateutil>=2.7 in /home/vale/Documents/DFTPY/aiWT/lib/python3.10/site-packages (from matplotlib>=3.1.0->ase>=3.22.0->dftpy>=2.0.0->aiWT==1.0.0) (2.8.2)\n",
      "Requirement already satisfied: llvmlite<0.41,>=0.40.0dev0 in /home/vale/Documents/DFTPY/aiWT/lib/python3.10/site-packages (from numba>=0.49->sparse->dscribe>=2.0.1->aiWT==1.0.0) (0.40.1)\n",
      "Requirement already satisfied: six>=1.5 in /home/vale/Documents/DFTPY/aiWT/lib/python3.10/site-packages (from python-dateutil>=2.7->matplotlib>=3.1.0->ase>=3.22.0->dftpy>=2.0.0->aiWT==1.0.0) (1.16.0)\n",
      "Using cached https://test-files.pythonhosted.org/packages/ec/90/7975be8769dea83e69ab1c003464d97562042645e4d88f6b897b56eb5794/aiWT-1.0.0-py3-none-any.whl (30 kB)\n",
      "Installing collected packages: aiWT\n",
      "  Attempting uninstall: aiWT\n",
      "    Found existing installation: aiWT 0.0.post4+g2f31137.d20230911\n",
      "    Uninstalling aiWT-0.0.post4+g2f31137.d20230911:\n",
      "      Successfully uninstalled aiWT-0.0.post4+g2f31137.d20230911\n",
      "Successfully installed aiWT-1.0.0\n",
      "Note: you may need to restart the kernel to use updated packages.\n"
     ]
    }
   ],
   "source": [
    "pip install -i https://test.pypi.org/simple/ aiWT==1.0.0"
   ]
  },
  {
   "cell_type": "code",
   "execution_count": null,
   "metadata": {},
   "outputs": [],
   "source": [
    "import hd5py \n",
    "file = h5py.File(‘Data.hdf5’, ‘r’) \n",
    "X = file[“Descripotor”] \n",
    "Y = file[“rho0”]\n",
    "\n",
    "aiwt=aiWT.airho0(X=X,Y=Y,nat=65,ns=180) # initialize the machine learning fitting\n",
    "\n",
    "path_pp=’…/ofpp/EAC/upf/blps/’ \n",
    "file=’si.lda.upf’ PP_list = {‘Si’: path_pp+file}\n",
    "\n",
    "ions = bulk(‘Si’, ‘diamond’, a=5.43, cubic=True) \n",
    "energy = aiWT.airho0.get_energy(ions=ions, PP_list=PP_list, aiwt=aiwt) # predict rho0 and calculate the orbital free energy"
   ]
  }
 ],
 "metadata": {
  "kernelspec": {
   "display_name": "aiWT",
   "language": "python",
   "name": "python3"
  },
  "language_info": {
   "codemirror_mode": {
    "name": "ipython",
    "version": 3
   },
   "file_extension": ".py",
   "mimetype": "text/x-python",
   "name": "python",
   "nbconvert_exporter": "python",
   "pygments_lexer": "ipython3",
   "version": "3.10.10"
  },
  "orig_nbformat": 4
 },
 "nbformat": 4,
 "nbformat_minor": 2
}
