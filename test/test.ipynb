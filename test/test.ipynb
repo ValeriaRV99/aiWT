{
 "cells": [
  {
   "cell_type": "markdown",
   "metadata": {},
   "source": [
    "### Simple test \n",
    "Calculate the total energy and the kinetic energy of Si cd implementing Orbital free DFT with DFTpy"
   ]
  },
  {
   "cell_type": "code",
   "execution_count": 1,
   "metadata": {},
   "outputs": [],
   "source": [
    "from ase.build import bulk\n",
    "import aiWT"
   ]
  },
  {
   "cell_type": "code",
   "execution_count": 3,
   "metadata": {},
   "outputs": [],
   "source": [
    "import h5py \n",
    "file = h5py.File('data.hdf5', 'r') \n",
    "X = file[\"Descriptor\"] \n",
    "Y = file[\"rho0\"]"
   ]
  },
  {
   "cell_type": "code",
   "execution_count": 5,
   "metadata": {},
   "outputs": [],
   "source": [
    "ions = bulk('Si', 'diamond', a=5.43, cubic=True) \n",
    "aiwt=aiWT.airho0(ions=ions,X=X,Y=Y,nat=65,ns=180) # initialize the machine learning fitting"
   ]
  },
  {
   "cell_type": "code",
   "execution_count": 6,
   "metadata": {},
   "outputs": [
    {
     "name": "stdout",
     "output_type": "stream",
     "text": [
      "setting key: Si -> /home/vale/Documents/DFTPY/aiWT/dftpy/examples/DATA/ofpp-main/EAC/upf/blps/si.lda.upf\n",
      "Step    Energy(a.u.)            dE              dP              Nd      Nls     Time(s)         \n",
      "0       -2.771674789300E+01     -2.771675E+01   7.155547E+00    1       1       2.258396E-02    \n",
      "1       -3.216281830028E+01     -4.446070E+00   3.182580E-01    18      2       1.490843E-01    \n",
      "2       -3.229849196687E+01     -1.356737E-01   2.844759E-02    7       1       2.019136E-01    \n",
      "3       -3.230058837086E+01     -2.096404E-03   2.188700E-03    5       1       2.453098E-01    \n",
      "4       -3.230079739690E+01     -2.090260E-04   2.002298E-04    6       1       2.965412E-01    \n",
      "5       -3.230080840877E+01     -1.101187E-05   1.851437E-05    4       1       3.362482E-01    \n",
      "6       -3.230081151015E+01     -3.101382E-06   1.554626E-06    7       1       3.939109E-01    \n",
      "#### Density Optimization Converged ####\n",
      "Chemical potential (a.u.): 0.19706699983087098\n",
      "Chemical potential (eV)  : 5.362466205061744\n",
      "Volume =  1080.4286469047408\n",
      "Kinetic energy (Ha)=  11.854139035974\n",
      "Total energy (Ha) =  -32.300811510151675\n"
     ]
    }
   ],
   "source": [
    "path_pp='/home/vale/Documents/DFTPY/aiWT/dftpy/examples/DATA/ofpp-main/EAC/upf/blps/'\n",
    "file='si.lda.upf'\n",
    "PP_list = {'Si': path_pp+file}\n",
    "rho0, ke, Total_energy = aiWT.airho0.get_energy(ions=ions, PP_list=PP_list, aiwt=aiwt) # predict rho0 and calculate the total energy with the aiWT KEDF"
   ]
  }
 ],
 "metadata": {
  "kernelspec": {
   "display_name": "aiWT",
   "language": "python",
   "name": "python3"
  },
  "language_info": {
   "codemirror_mode": {
    "name": "ipython",
    "version": 3
   },
   "file_extension": ".py",
   "mimetype": "text/x-python",
   "name": "python",
   "nbconvert_exporter": "python",
   "pygments_lexer": "ipython3",
   "version": "3.10.10"
  },
  "orig_nbformat": 4
 },
 "nbformat": 4,
 "nbformat_minor": 2
}
