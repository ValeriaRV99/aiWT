{
 "cells": [
  {
   "cell_type": "markdown",
   "metadata": {},
   "source": [
    "### Simple test \n",
    "Calculate the total energy and the kinetic energy of Si cd implementing Orbital free DFT with DFTpy"
   ]
  },
  {
   "cell_type": "code",
   "execution_count": 2,
   "metadata": {},
   "outputs": [],
   "source": [
    "from ase.build import bulk\n",
    "import aiwt"
   ]
  },
  {
   "cell_type": "code",
   "execution_count": 4,
   "metadata": {},
   "outputs": [
    {
     "data": {
      "text/plain": [
       "['/home/vale/Documents/DFTPY/aiWT/aiwt/src/aiwt']"
      ]
     },
     "execution_count": 4,
     "metadata": {},
     "output_type": "execute_result"
    }
   ],
   "source": [
    "aiwt.__path__"
   ]
  },
  {
   "cell_type": "code",
   "execution_count": 3,
   "metadata": {},
   "outputs": [],
   "source": [
    "import h5py \n",
    "file = h5py.File('data.hdf5', 'r') \n",
    "X = file[\"Descriptor\"] \n",
    "Y = file[\"rho0\"]"
   ]
  },
  {
   "cell_type": "code",
   "execution_count": 5,
   "metadata": {},
   "outputs": [
    {
     "ename": "FileNotFoundError",
     "evalue": "[Errno 2] Unable to open file (unable to open file: name = '/home/vale/Documents/DFTPY/aiWT/lib/python3.10/site-packages/data.hdf5', errno = 2, error message = 'No such file or directory', flags = 0, o_flags = 0)",
     "output_type": "error",
     "traceback": [
      "\u001b[0;31m---------------------------------------------------------------------------\u001b[0m",
      "\u001b[0;31mFileNotFoundError\u001b[0m                         Traceback (most recent call last)",
      "Cell \u001b[0;32mIn[5], line 2\u001b[0m\n\u001b[1;32m      1\u001b[0m ions \u001b[39m=\u001b[39m bulk(\u001b[39m'\u001b[39m\u001b[39mSi\u001b[39m\u001b[39m'\u001b[39m, \u001b[39m'\u001b[39m\u001b[39mdiamond\u001b[39m\u001b[39m'\u001b[39m, a\u001b[39m=\u001b[39m\u001b[39m5.43\u001b[39m, cubic\u001b[39m=\u001b[39m\u001b[39mTrue\u001b[39;00m) \n\u001b[0;32m----> 2\u001b[0m aiwt\u001b[39m=\u001b[39maiwt\u001b[39m.\u001b[39;49mairho0(ions\u001b[39m=\u001b[39;49mions,nat\u001b[39m=\u001b[39;49m\u001b[39m65\u001b[39;49m,ns\u001b[39m=\u001b[39;49m\u001b[39m180\u001b[39;49m) \u001b[39m# initialize the machine learning fitting\u001b[39;00m\n",
      "File \u001b[0;32m~/Documents/DFTPY/aiWT/aiwt/src/aiwt/aiwt.py:32\u001b[0m, in \u001b[0;36mairho0.__init__\u001b[0;34m(self, ions, X, Y, nat, ns)\u001b[0m\n\u001b[1;32m     30\u001b[0m \u001b[39melse\u001b[39;00m:\n\u001b[1;32m     31\u001b[0m     path\u001b[39m=\u001b[39m get_python_lib()\n\u001b[0;32m---> 32\u001b[0m     file \u001b[39m=\u001b[39m h5py\u001b[39m.\u001b[39;49mFile(path\u001b[39m+\u001b[39;49m\u001b[39m\"\u001b[39;49m\u001b[39m/data.hdf5\u001b[39;49m\u001b[39m\"\u001b[39;49m, \u001b[39m'\u001b[39;49m\u001b[39mr\u001b[39;49m\u001b[39m'\u001b[39;49m) \n\u001b[1;32m     33\u001b[0m     \u001b[39mself\u001b[39m\u001b[39m.\u001b[39mX \u001b[39m=\u001b[39m file[\u001b[39m\"\u001b[39m\u001b[39mDescriptor\u001b[39m\u001b[39m\"\u001b[39m] \n\u001b[1;32m     34\u001b[0m     \u001b[39mself\u001b[39m\u001b[39m.\u001b[39mY \u001b[39m=\u001b[39m file[\u001b[39m\"\u001b[39m\u001b[39mrho0\u001b[39m\u001b[39m\"\u001b[39m]\n",
      "File \u001b[0;32m~/Documents/DFTPY/aiWT/lib/python3.10/site-packages/h5py/_hl/files.py:567\u001b[0m, in \u001b[0;36mFile.__init__\u001b[0;34m(self, name, mode, driver, libver, userblock_size, swmr, rdcc_nslots, rdcc_nbytes, rdcc_w0, track_order, fs_strategy, fs_persist, fs_threshold, fs_page_size, page_buf_size, min_meta_keep, min_raw_keep, locking, alignment_threshold, alignment_interval, meta_block_size, **kwds)\u001b[0m\n\u001b[1;32m    558\u001b[0m     fapl \u001b[39m=\u001b[39m make_fapl(driver, libver, rdcc_nslots, rdcc_nbytes, rdcc_w0,\n\u001b[1;32m    559\u001b[0m                      locking, page_buf_size, min_meta_keep, min_raw_keep,\n\u001b[1;32m    560\u001b[0m                      alignment_threshold\u001b[39m=\u001b[39malignment_threshold,\n\u001b[1;32m    561\u001b[0m                      alignment_interval\u001b[39m=\u001b[39malignment_interval,\n\u001b[1;32m    562\u001b[0m                      meta_block_size\u001b[39m=\u001b[39mmeta_block_size,\n\u001b[1;32m    563\u001b[0m                      \u001b[39m*\u001b[39m\u001b[39m*\u001b[39mkwds)\n\u001b[1;32m    564\u001b[0m     fcpl \u001b[39m=\u001b[39m make_fcpl(track_order\u001b[39m=\u001b[39mtrack_order, fs_strategy\u001b[39m=\u001b[39mfs_strategy,\n\u001b[1;32m    565\u001b[0m                      fs_persist\u001b[39m=\u001b[39mfs_persist, fs_threshold\u001b[39m=\u001b[39mfs_threshold,\n\u001b[1;32m    566\u001b[0m                      fs_page_size\u001b[39m=\u001b[39mfs_page_size)\n\u001b[0;32m--> 567\u001b[0m     fid \u001b[39m=\u001b[39m make_fid(name, mode, userblock_size, fapl, fcpl, swmr\u001b[39m=\u001b[39;49mswmr)\n\u001b[1;32m    569\u001b[0m \u001b[39mif\u001b[39;00m \u001b[39misinstance\u001b[39m(libver, \u001b[39mtuple\u001b[39m):\n\u001b[1;32m    570\u001b[0m     \u001b[39mself\u001b[39m\u001b[39m.\u001b[39m_libver \u001b[39m=\u001b[39m libver\n",
      "File \u001b[0;32m~/Documents/DFTPY/aiWT/lib/python3.10/site-packages/h5py/_hl/files.py:231\u001b[0m, in \u001b[0;36mmake_fid\u001b[0;34m(name, mode, userblock_size, fapl, fcpl, swmr)\u001b[0m\n\u001b[1;32m    229\u001b[0m     \u001b[39mif\u001b[39;00m swmr \u001b[39mand\u001b[39;00m swmr_support:\n\u001b[1;32m    230\u001b[0m         flags \u001b[39m|\u001b[39m\u001b[39m=\u001b[39m h5f\u001b[39m.\u001b[39mACC_SWMR_READ\n\u001b[0;32m--> 231\u001b[0m     fid \u001b[39m=\u001b[39m h5f\u001b[39m.\u001b[39;49mopen(name, flags, fapl\u001b[39m=\u001b[39;49mfapl)\n\u001b[1;32m    232\u001b[0m \u001b[39melif\u001b[39;00m mode \u001b[39m==\u001b[39m \u001b[39m'\u001b[39m\u001b[39mr+\u001b[39m\u001b[39m'\u001b[39m:\n\u001b[1;32m    233\u001b[0m     fid \u001b[39m=\u001b[39m h5f\u001b[39m.\u001b[39mopen(name, h5f\u001b[39m.\u001b[39mACC_RDWR, fapl\u001b[39m=\u001b[39mfapl)\n",
      "File \u001b[0;32mh5py/_objects.pyx:54\u001b[0m, in \u001b[0;36mh5py._objects.with_phil.wrapper\u001b[0;34m()\u001b[0m\n",
      "File \u001b[0;32mh5py/_objects.pyx:55\u001b[0m, in \u001b[0;36mh5py._objects.with_phil.wrapper\u001b[0;34m()\u001b[0m\n",
      "File \u001b[0;32mh5py/h5f.pyx:106\u001b[0m, in \u001b[0;36mh5py.h5f.open\u001b[0;34m()\u001b[0m\n",
      "\u001b[0;31mFileNotFoundError\u001b[0m: [Errno 2] Unable to open file (unable to open file: name = '/home/vale/Documents/DFTPY/aiWT/lib/python3.10/site-packages/data.hdf5', errno = 2, error message = 'No such file or directory', flags = 0, o_flags = 0)"
     ]
    }
   ],
   "source": [
    "ions = bulk('Si', 'diamond', a=5.43, cubic=True) \n",
    "aiwt=aiwt.airho0(ions=ions,nat=65,ns=180) # initialize the machine learning fitting"
   ]
  },
  {
   "cell_type": "code",
   "execution_count": 6,
   "metadata": {},
   "outputs": [
    {
     "name": "stdout",
     "output_type": "stream",
     "text": [
      "setting key: Si -> /home/vale/Documents/DFTPY/aiWT/dftpy/examples/DATA/ofpp-main/EAC/upf/blps/si.lda.upf\n",
      "Step    Energy(a.u.)            dE              dP              Nd      Nls     Time(s)         \n",
      "0       -2.771674789300E+01     -2.771675E+01   7.155547E+00    1       1       2.258396E-02    \n",
      "1       -3.216281830028E+01     -4.446070E+00   3.182580E-01    18      2       1.490843E-01    \n",
      "2       -3.229849196687E+01     -1.356737E-01   2.844759E-02    7       1       2.019136E-01    \n",
      "3       -3.230058837086E+01     -2.096404E-03   2.188700E-03    5       1       2.453098E-01    \n",
      "4       -3.230079739690E+01     -2.090260E-04   2.002298E-04    6       1       2.965412E-01    \n",
      "5       -3.230080840877E+01     -1.101187E-05   1.851437E-05    4       1       3.362482E-01    \n",
      "6       -3.230081151015E+01     -3.101382E-06   1.554626E-06    7       1       3.939109E-01    \n",
      "#### Density Optimization Converged ####\n",
      "Chemical potential (a.u.): 0.19706699983087098\n",
      "Chemical potential (eV)  : 5.362466205061744\n",
      "Volume =  1080.4286469047408\n",
      "Kinetic energy (Ha)=  11.854139035974\n",
      "Total energy (Ha) =  -32.300811510151675\n"
     ]
    }
   ],
   "source": [
    "path_pp='/home/vale/Documents/DFTPY/aiWT/dftpy/examples/DATA/ofpp-main/EAC/upf/blps/'\n",
    "file='si.lda.upf'\n",
    "PP_list = {'Si': path_pp+file}\n",
    "rho0, ke, Total_energy = aiWT.airho0.get_energy(ions=ions, PP_list=PP_list, aiwt=aiwt) # predict rho0 and calculate the total energy with the aiWT KEDF"
   ]
  }
 ],
 "metadata": {
  "kernelspec": {
   "display_name": "aiWT",
   "language": "python",
   "name": "python3"
  },
  "language_info": {
   "codemirror_mode": {
    "name": "ipython",
    "version": 3
   },
   "file_extension": ".py",
   "mimetype": "text/x-python",
   "name": "python",
   "nbconvert_exporter": "python",
   "pygments_lexer": "ipython3",
   "version": "3.10.10"
  },
  "orig_nbformat": 4
 },
 "nbformat": 4,
 "nbformat_minor": 2
}
